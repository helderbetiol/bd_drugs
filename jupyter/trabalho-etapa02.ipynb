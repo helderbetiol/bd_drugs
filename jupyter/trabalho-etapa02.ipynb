{
 "cells": [
  {
   "cell_type": "code",
   "execution_count": 3,
   "metadata": {},
   "outputs": [],
   "source": [
    "%defaultDatasource jdbc:h2:mem:db"
   ]
  },
  {
   "cell_type": "markdown",
   "metadata": {},
   "source": [
    "# Analisando o Risco de um Usuário utilizar Drogas Ilícitas\n",
    "* Esta tarefa demonstrará o processo do desenvolvimento do sistema capaz de analizar o risco de um usuário utilizar drogas ilícitas."
   ]
  },
  {
   "cell_type": "markdown",
   "metadata": {},
   "source": [
    "* Modelo Conceitual: ER"
   ]
  },
  {
   "cell_type": "markdown",
   "metadata": {},
   "source": [
    "![Modelo Conceitual Entidade Relacionamento](ModeloConceitualER.png \"ER\")"
   ]
  },
  {
   "cell_type": "markdown",
   "metadata": {},
   "source": [
    "* Modelo Conceitual: UML"
   ]
  },
  {
   "cell_type": "markdown",
   "metadata": {},
   "source": [
    "![Modelo Conceitual UML](ModeloConceitualUML.png \"UML\")"
   ]
  },
  {
   "cell_type": "markdown",
   "metadata": {},
   "source": [
    "* Modelo Lógico"
   ]
  },
  {
   "cell_type": "markdown",
   "metadata": {},
   "source": [
    "Usuario(\\_id\\_, idade, sexo, nívelEducação, nacionalidade, etnia);<br/><br/>\n",
    "Personalidade(\\_user_id\\_, pontuaçãoN, pontuaçãoE, pontuaçãoO, pontuaçãoA, pontuaçãoC, impulsividade, pontuaçãoSS);<br/>\n",
    "FK: user_id -> id em Usuario;<br/><br/>\n",
    "RiscoUso_ilícitas(\\_user_id\\_, geral, amphetamines, amyl_nitrite, benzodiazepine, cannabis, cocaine, crack, ecstasy, heroin, ketamine, legal_highs, LSD, methadone, mushrooms, VSA);<br/>\n",
    "FK: user_id -> id em Usuario;<br/><br/>\n",
    "Alcohol(\\_user_id\\_, consumo);<br/>\n",
    "FK: user_id -> id em Usuario;<br/><br/>\n",
    "Amphetamines(\\_user_id\\_, consumo);<br/>\n",
    "FK: user_id -> id em Usuario;<br/><br/>\n",
    "Amyl_nitrite(\\_user_id\\_, consumo);<br/>\n",
    "FK: user_id -> id em Usuario;<br/><br/>\n",
    "Benzodiazepine(\\_user_id\\_, consumo);<br/>\n",
    "FK: user_id -> id em Usuario;<br/><br/>\n",
    "Cannabis(\\_user_id\\_, consumo);<br/>\n",
    "FK: user_id -> id em Usuario;<br/><br/>\n",
    "Chocolate(\\_user_id\\_, consumo);<br/>\n",
    "FK: user_id -> id em Usuario;<br/><br/>\n",
    "Cocaine(\\_user_id\\_, consumo);<br/>\n",
    "FK: user_id -> id em Usuario;<br/><br/>\n",
    "Caffeine(\\_user_id\\_, consumo);<br/>\n",
    "FK: user_id -> id em Usuario;<br/><br/>\n",
    "Crack(\\_user_id\\_, consumo);<br/>\n",
    "FK: user_id -> id em Usuario;<br/><br/>\n",
    "Ecstasy(\\_user_id\\_, consumo);<br/>\n",
    "FK: user_id -> id em Usuario;<br/><br/>\n",
    "Heroin(\\_user_id\\_, consumo);<br/>\n",
    "FK: user_id -> id em Usuario;<br/><br/>\n",
    "LSD(\\_user_id\\_, consumo);<br/>\n",
    "FK: user_id -> id em Usuario;<br/><br/>\n",
    "Methadone(\\_user_id\\_, consumo);<br/>\n",
    "FK: user_id -> id em Usuario;<br/><br/>\n",
    "Mushrooms(\\_user_id\\_, consumo);<br/>\n",
    "FK: user_id -> id em Usuario;<br/><br/>\n",
    "Nicotine(\\_user_id\\_, consumo);<br/>\n",
    "FK: user_id -> id em Usuario;<br/><br/>\n",
    "VSA(\\_user_id\\_, consumo);<br/>\n",
    "FK: user_id -> id em Usuario;<br/><br/>"
   ]
  },
  {
   "cell_type": "markdown",
   "metadata": {},
   "source": [
    "* A partir do arquivo CSV que está no diretório /data considere as seguintes tabelas SQL."
   ]
  },
  {
   "cell_type": "code",
   "execution_count": null,
   "metadata": {},
   "outputs": [],
   "source": [
    "CREATE TABLE Teste (\n",
    "    Id VARCHAR(5) NOT NULL,\n",
    "    Age VARCHAR(10) NOT NULL,\n",
    "    Gender VARCHAR(10) NOT NULL,\n",
    "    Education VARCHAR(10) NOT NULL,\n",
    "    Country VARCHAR(10) NOT NULL,\n",
    "    Ethnicity VARCHAR(10) NOT NULL,\n",
    "    Nscore VARCHAR(10) NOT NULL,\n",
    "    Escore VARCHAR(10) NOT NULL,\n",
    "    Oscore VARCHAR(10) NOT NULL,\n",
    "    Ascore VARCHAR(10) NOT NULL,\n",
    "    Cscore VARCHAR(10) NOT NULL,\n",
    "    Impulsive  VARCHAR(10) NOT NULL,\n",
    "    SS  VARCHAR(10) NOT NULL,\n",
    "    Alcohol  VARCHAR(4) NOT NULL,\n",
    "    Amphet VARCHAR(4) NOT NULL,\n",
    "    Amyl VARCHAR(4) NOT NULL,\n",
    "    Benzos VARCHAR(4) NOT NULL,\n",
    "    Caff VARCHAR(4) NOT NULL,\n",
    "    Cannabis VARCHAR(4) NOT NULL,\n",
    "    Choc VARCHAR(4) NOT NULL,\n",
    "    Coke VARCHAR(4) NOT NULL,\n",
    "    Crack VARCHAR(4) NOT NULL,\n",
    "    Ecstasy VARCHAR(4) NOT NULL,\n",
    "    Herion VARCHAR(4) NOT NULL,\n",
    "    Ketamine VARCHAR(4) NOT NULL,\n",
    "    Legalh VARCHAR(4) NOT NULL,\n",
    "    LSD VARCHAR(4) NOT NULL,\n",
    "    Meth VARCHAR(4) NOT NULL,\n",
    "    Mushrooms VARCHAR(4) NOT NULL,\n",
    "    Nicotine VARCHAR(4) NOT NULL,\n",
    "    Semer VARCHAR(4) NOT NULL,\n",
    "    VSA VARCHAR(4) NOT NULL,\n",
    "    PRIMARY KEY(Id)\n",
    ") AS SELECT\n",
    "    Id,\n",
    "    Age,\n",
    "    Gender,\n",
    "    Education,\n",
    "    Country,\n",
    "    Ethnicity,\n",
    "    Nscore,\n",
    "    Escore,\n",
    "    Oscore,\n",
    "    Ascore,\n",
    "    Cscore,\n",
    "    Impulsive,\n",
    "    SS,\n",
    "    Alcohol,\n",
    "    Amphet,\n",
    "    Amyl,\n",
    "    Benzos,\n",
    "    Caff,\n",
    "    Cannabis,\n",
    "    Choc,\n",
    "    Coke,\n",
    "    Crack,\n",
    "    Ecstasy,\n",
    "    Herion,\n",
    "    Ketamine,\n",
    "    Legalh,\n",
    "    LSD,\n",
    "    Meth,\n",
    "    Mushrooms,\n",
    "    Nicotine,\n",
    "    Semer,\n",
    "    VSA\n",
    "FROM CSVREAD('../data/drug_consumption.csv');"
   ]
  },
  {
   "cell_type": "code",
   "execution_count": 5,
   "metadata": {},
   "outputs": [],
   "source": [
    "CREATE TABLE Usuario (\n",
    "    Id VARCHAR(5) NOT NULL,\n",
    "    Age VARCHAR(10) NOT NULL,\n",
    "    Gender VARCHAR(10) NOT NULL,\n",
    "    Education VARCHAR(10) NOT NULL,\n",
    "    Country VARCHAR(10) NOT NULL,\n",
    "    Ethnicity VARCHAR(10) NOT NULL,\n",
    "    PRIMARY KEY(Id)\n",
    ") AS SELECT\n",
    "    Id,\n",
    "    Age,\n",
    "    Gender,\n",
    "    Education,\n",
    "    Country,\n",
    "    Ethnicity\n",
    "FROM CSVREAD('../data/drug_consumption.csv');\n",
    "\n",
    "CREATE TABLE Personalidade (\n",
    "    User_Id VARCHAR(5) NOT NULL,\n",
    "    Nscore VARCHAR(10) NOT NULL,\n",
    "    Escore VARCHAR(10) NOT NULL,\n",
    "    Oscore VARCHAR(10) NOT NULL,\n",
    "    Ascore VARCHAR(10) NOT NULL,\n",
    "    Cscore VARCHAR(10) NOT NULL,\n",
    "    Impulsive  VARCHAR(10) NOT NULL,\n",
    "    SS  VARCHAR(10) NOT NULL,\n",
    "    FOREIGN KEY(User_Id)\n",
    "        REFERENCES Usuario(Id)\n",
    "            ON DELETE NO ACTION\n",
    "            ON UPDATE NO ACTION\n",
    ") AS SELECT\n",
    "    User_Id\n",
    "    Nscore,\n",
    "    Escore,\n",
    "    Oscore,\n",
    "    Ascore,\n",
    "    Cscore,\n",
    "    Impulsive,\n",
    "    SS\n",
    "FROM CSVREAD('../data/drug_consumption.csv');\n",
    "\n",
    "CREATE TABLE Consumo (\n",
    "    User_Id VARCHAR(5) NOT NULL,\n",
    "    Alcohol  VARCHAR(4) NOT NULL,\n",
    "    Amphet VARCHAR(4) NOT NULL,\n",
    "    Amyl VARCHAR(4) NOT NULL,\n",
    "    Benzos VARCHAR(4) NOT NULL,\n",
    "    Caff VARCHAR(4) NOT NULL,\n",
    "    Cannabis VARCHAR(4) NOT NULL,\n",
    "    Choc VARCHAR(4) NOT NULL,\n",
    "    Coke VARCHAR(4) NOT NULL,\n",
    "    Crack VARCHAR(4) NOT NULL,\n",
    "    Ecstasy VARCHAR(4) NOT NULL,\n",
    "    Herion VARCHAR(4) NOT NULL,\n",
    "    Ketamine VARCHAR(4) NOT NULL,\n",
    "    Legalh VARCHAR(4) NOT NULL,\n",
    "    LSD VARCHAR(4) NOT NULL,\n",
    "    Meth VARCHAR(4) NOT NULL,\n",
    "    Mushrooms VARCHAR(4) NOT NULL,\n",
    "    Nicotine VARCHAR(4) NOT NULL,\n",
    "    Semer VARCHAR(4) NOT NULL,\n",
    "    VSA VARCHAR(4) NOT NULL,\n",
    "    FOREIGN KEY(User_Id)\n",
    "        REFERENCES Usuario(Id)\n",
    "            ON DELETE NO ACTION\n",
    "            ON UPDATE NO ACTION\n",
    ") AS SELECT\n",
    "    User_Id,\n",
    "    Alcohol,\n",
    "    Amphet,\n",
    "    Amyl,\n",
    "    Benzos,\n",
    "    Caff,\n",
    "    Cannabis,\n",
    "    Choc,\n",
    "    Coke,\n",
    "    Crack,\n",
    "    Ecstasy,\n",
    "    Herion,\n",
    "    Ketamine,\n",
    "    Legalh,\n",
    "    LSD,\n",
    "    Meth,\n",
    "    Mushrooms,\n",
    "    Nicotine,\n",
    "    Semer,\n",
    "    VSA\n",
    "FROM CSVREAD('../data/drug_consumption.csv');"
   ]
  },
  {
   "cell_type": "code",
   "execution_count": 6,
   "metadata": {},
   "outputs": [
    {
     "data": {
      "application/vnd.jupyter.widget-view+json": {
       "model_id": "4235f4ef-0132-4370-95b7-b165a00d0479",
       "version_major": 2,
       "version_minor": 0
      },
      "method": "display_data"
     },
     "metadata": {},
     "output_type": "display_data"
    }
   ],
   "source": [
    "SELECT * FROM Usuario, Personalidade, Consumo WHERE Usuario.Id = Personalidade.User_Id AND Usuario.Id = Consumo.User_Id;"
   ]
  },
  {
   "cell_type": "markdown",
   "metadata": {},
   "source": [
    "# I. Análise de comportamento estatístico"
   ]
  },
  {
   "cell_type": "markdown",
   "metadata": {},
   "source": [
    "## 1) Contabilizando o uso de medicamentos\n",
    "\n",
    "* Liste o nome de todos os medicamentos e a quantidade de pessoas que usa cada um deles."
   ]
  },
  {
   "cell_type": "code",
   "execution_count": 4,
   "metadata": {},
   "outputs": [
    {
     "data": {
      "application/vnd.jupyter.widget-view+json": {
       "model_id": "c819911f-f70b-48a6-8e7f-b6b0c07d453a",
       "version_major": 2,
       "version_minor": 0
      },
      "method": "display_data"
     },
     "metadata": {},
     "output_type": "display_data"
    }
   ],
   "source": [
    "SELECT Med.nomeMedicamento, COUNT(Uso.CodMedicamento) FROM Medicamento Med, UsoMedicamento Uso \n",
    "WHERE Uso.CodMedicamento = Med.Codigo GROUP BY Uso.CodMedicamento;"
   ]
  },
  {
   "cell_type": "markdown",
   "metadata": {},
   "source": [
    "## 2) Medicamento mais usado com VIEW\n",
    "\n",
    "* Informe o código do medicamento mais usado: fazendo uso de VIEW."
   ]
  },
  {
   "cell_type": "code",
   "execution_count": 5,
   "metadata": {},
   "outputs": [
    {
     "data": {
      "text/plain": [
       "d00732"
      ]
     },
     "execution_count": 5,
     "metadata": {},
     "output_type": "execute_result"
    }
   ],
   "source": [
    "DROP VIEW MaisUsado IF EXISTS;\n",
    "CREATE VIEW MaisUsado AS SELECT Uso.CodMedicamento, COUNT(Uso.CodMedicamento) QTD FROM UsoMedicamento Uso \n",
    "GROUP BY Uso.CodMedicamento;\n",
    "SELECT CodMedicamento FROM MaisUsado WHERE QTD = (SELECT MAX(QTD) FROM MaisUsado);"
   ]
  },
  {
   "cell_type": "markdown",
   "metadata": {},
   "source": [
    "## 3) Medicamento mais usado sem VIEW\n",
    "\n",
    "* Informe o código do medicamento mais usado: sem fazer uso de VIEW."
   ]
  },
  {
   "cell_type": "code",
   "execution_count": 6,
   "metadata": {},
   "outputs": [
    {
     "data": {
      "text/plain": [
       "d00732"
      ]
     },
     "execution_count": 6,
     "metadata": {},
     "output_type": "execute_result"
    }
   ],
   "source": [
    "SELECT CodMedicamento FROM \n",
    "(SELECT Uso.CodMedicamento, COUNT(Uso.CodMedicamento) AS QTD FROM UsoMedicamento Uso \n",
    "GROUP BY Uso.CodMedicamento) \n",
    "WHERE QTD = (SELECT MAX(QTD) FROM \n",
    "(SELECT Uso.CodMedicamento, COUNT(Uso.CodMedicamento) AS QTD FROM UsoMedicamento Uso \n",
    "GROUP BY Uso.CodMedicamento));"
   ]
  },
  {
   "cell_type": "markdown",
   "metadata": {},
   "source": [
    "## 4) Nome do medicamento mais usado\n",
    "* Informe o nome do medicamento mais usado (uso de VIEW é opcional)."
   ]
  },
  {
   "cell_type": "code",
   "execution_count": 7,
   "metadata": {},
   "outputs": [
    {
     "data": {
      "text/plain": [
       "LISINOPRIL"
      ]
     },
     "execution_count": 7,
     "metadata": {},
     "output_type": "execute_result"
    }
   ],
   "source": [
    "DROP VIEW MaisUsado IF EXISTS;\n",
    "CREATE VIEW MaisUsado AS SELECT Uso.CodMedicamento, COUNT(Uso.CodMedicamento) QTD FROM UsoMedicamento Uso GROUP BY Uso.CodMedicamento;\n",
    "SELECT Med.nomeMedicamento FROM Medicamento Med\n",
    "WHERE Med.Codigo = (SELECT CodMedicamento FROM MaisUsado WHERE QTD = (SELECT MAX(QTD) FROM MaisUsado));"
   ]
  },
  {
   "cell_type": "markdown",
   "metadata": {},
   "source": [
    "## 5) Contabilizando quanto as pessoas usam de medicamento\n",
    "\n",
    "* Informe o número médio de uso de medicamento por pessoa."
   ]
  },
  {
   "cell_type": "code",
   "execution_count": 8,
   "metadata": {},
   "outputs": [
    {
     "data": {
      "text/plain": [
       "3"
      ]
     },
     "execution_count": 8,
     "metadata": {},
     "output_type": "execute_result"
    }
   ],
   "source": [
    "SELECT AVG(Id) FROM (SELECT COUNT(Uso.IdPessoa) AS Id FROM UsoMedicamento Uso \n",
    "                     GROUP BY Uso.IdPessoa);"
   ]
  },
  {
   "cell_type": "markdown",
   "metadata": {},
   "source": [
    "## 6) Pessoas que usam mais do que a média\n",
    "\n",
    "* Liste o id das pessoas que usam mais medicamentos do que a média."
   ]
  },
  {
   "cell_type": "code",
   "execution_count": 9,
   "metadata": {},
   "outputs": [
    {
     "data": {
      "application/vnd.jupyter.widget-view+json": {
       "model_id": "745ff6ee-174b-4adf-ac94-3679eb9993c3",
       "version_major": 2,
       "version_minor": 0
      },
      "method": "display_data"
     },
     "metadata": {},
     "output_type": "display_data"
    }
   ],
   "source": [
    "SELECT Id FROM \n",
    "(SELECT COUNT(Uso.IdPessoa) AS Qtd, Uso.IdPessoa AS Id FROM UsoMedicamento Uso GROUP BY Uso.IdPessoa)\n",
    "WHERE Qtd > (SELECT AVG(Id) FROM \n",
    "(SELECT COUNT(Uso.IdPessoa) AS Id FROM UsoMedicamento Uso GROUP BY Uso.IdPessoa));"
   ]
  },
  {
   "cell_type": "markdown",
   "metadata": {},
   "source": [
    "## 7) Análise do uso de medicamento\n",
    "\n",
    "* Considere que um médico quer fazer responder a seguinte questão: pessoas tendem a usar mais medicamentos conforme ficam mais velhas?\n",
    "* Escreva uma query que ajude o médico a realizar esta análise."
   ]
  },
  {
   "cell_type": "code",
   "execution_count": 10,
   "metadata": {},
   "outputs": [
    {
     "data": {
      "application/vnd.jupyter.widget-view+json": {
       "model_id": "56c57860-0e41-415b-bdee-46a1e6ba0e43",
       "version_major": 2,
       "version_minor": 0
      },
      "method": "display_data"
     },
     "metadata": {},
     "output_type": "display_data"
    }
   ],
   "source": [
    "SELECT Pessoa.Idade AS Idade, COUNT(Uso.IdPessoa) AS QtdMedicamento\n",
    "FROM UsoMedicamento Uso, Pessoa WHERE Uso.IdPessoa = Pessoa.Id GROUP BY Uso.IdPessoa ;"
   ]
  },
  {
   "cell_type": "markdown",
   "metadata": {},
   "source": [
    "# II. Análise de correlação em pares\n",
    "## Estudo de ação cruzada entre medicamentos\n",
    "\n",
    "* Um pesquisador quer estudar o efeito cruzado de usar dois medicamentos simultaneamente. \n",
    "* Para isso ele precisará da seguinte sequência de queries."
   ]
  },
  {
   "cell_type": "markdown",
   "metadata": {},
   "source": [
    "## 8) Medicamentos tomados em conjunto\n",
    "* Construa uma VIEW com duas colunas: medicamentoA, medicamentoB\n",
    "* Nessa VIEW, é criada uma tupla (medicamentoA, medicamentoB) toda vez que uma pessoa toma o medicamento A e também o medicamento B.\n",
    "* Haverá repetição de tuplas, já que mais de uma pessoa pode tomar o mesmo par de medicamentos.\n",
    "* Cuidado para não duplicar a mesma informação, ou seja, considerando que uma pessoa tomou o medicamentoX e o medicamentoY, cuidado para não criar duas tuplas: (medicamentoX, medicamentoY) e (medicamentoY, medicamentoX)."
   ]
  },
  {
   "cell_type": "code",
   "execution_count": 20,
   "metadata": {},
   "outputs": [],
   "source": [
    "DROP VIEW MedAB IF EXISTS;\n",
    "CREATE VIEW MedAB AS SELECT DISTINCT Uso.IdPessoa, GREATEST(Uso.CodMedicamento, Uso2.CodMedicamento), LEAST(Uso.CodMedicamento, Uso2.CodMedicamento)\n",
    "    FROM  UsoMedicamento Uso, UsoMedicamento Uso2\n",
    "    WHERE Uso2.IdPessoa = Uso.IdPessoa AND Uso.CodMedicamento <> Uso2.CodMedicamento;\n",
    "--SELECT * FROM MedAB;"
   ]
  },
  {
   "cell_type": "markdown",
   "metadata": {},
   "source": [
    "## 9) Total de medicamento tomados em conjunto\n",
    "* Apresente o total de pessoas que toma cada par de medicamentos."
   ]
  },
  {
   "cell_type": "code",
   "execution_count": 12,
   "metadata": {},
   "outputs": [
    {
     "data": {
      "application/vnd.jupyter.widget-view+json": {
       "model_id": "d40b0517-8a40-42b9-ab2a-b57fa5383ba8",
       "version_major": 2,
       "version_minor": 0
      },
      "method": "display_data"
     },
     "metadata": {},
     "output_type": "display_data"
    }
   ],
   "source": [
    "SELECT COUNT(IdPessoa) FROM MedAB GROUP BY Cod1, Cod2;"
   ]
  },
  {
   "cell_type": "markdown",
   "metadata": {},
   "source": [
    "# III. Análise de correlação entre variáveis\n",
    "* Consiste na análise da seguinte questão: como a alteração de uma variável afeta a outra.\n",
    "## Matriz de análise\n",
    "* Considere a matriz abaixo."
   ]
  },
  {
   "cell_type": "code",
   "execution_count": 13,
   "metadata": {},
   "outputs": [
    {
     "data": {
      "application/vnd.jupyter.widget-view+json": {
       "model_id": "6d7ef8b8-0d25-4870-ad70-15948bbb9263",
       "version_major": 2,
       "version_minor": 0
      },
      "method": "display_data"
     },
     "metadata": {},
     "output_type": "display_data"
    }
   ],
   "source": [
    "CREATE TABLE Matriz (\n",
    "  Id VARCHAR(5) NOT NULL,\n",
    "  Genero INTEGER,\n",
    "  Idade INTEGER,\n",
    "  IdadeAte60 BOOLEAN,\n",
    "  MaisUmAnoMedicamento BOOLEAN,\n",
    "  MedicamentosAcimaMedia BOOLEAN,\n",
    "  PRIMARY KEY(Id)\n",
    ") AS SELECT\n",
    "    Id,\n",
    "    Genero,\n",
    "    Idade,\n",
    "    FALSE, FALSE, FALSE\n",
    "FROM CSVREAD('../data/nhanes/demographic-person.csv');\n",
    "\n",
    "SELECT * FROM Matriz;"
   ]
  },
  {
   "cell_type": "markdown",
   "metadata": {},
   "source": [
    "## 10) Atualização simples da matriz\n",
    "* Utilize o comando UPDATE para atualizar a coluna IdadeAte60 da tabela colocando verdadeiro para as pessoas que têm até 60 anos de idade."
   ]
  },
  {
   "cell_type": "code",
   "execution_count": 14,
   "metadata": {},
   "outputs": [],
   "source": [
    "UPDATE Matriz SET IdadeAte60 = true WHERE Idade < 60;\n",
    "--SELECT * FROM Matriz;"
   ]
  },
  {
   "cell_type": "markdown",
   "metadata": {},
   "source": [
    "## 11) Atualização vinculada a uma segunda tabela\n",
    "* Utilize o comando UPDATE para atualizar a coluna MaisUmAnoMedicamento, colocando verdadeiro para aquelas pessoas que usam pelo menos um medicamento há mais de um ano."
   ]
  },
  {
   "cell_type": "code",
   "execution_count": 15,
   "metadata": {},
   "outputs": [],
   "source": [
    "UPDATE Matriz SET MaisUmAnoMedicamento = true WHERE Matriz.Id = \n",
    "(SELECT DISTINCT IdPessoa FROM UsoMedicamento Uso WHERE Uso.DiasUso >365 AND IdPessoa = Matriz.Id);\n",
    "--SELECT * FROM Matriz;"
   ]
  },
  {
   "cell_type": "markdown",
   "metadata": {},
   "source": [
    "## 12) Atualização baseada em uma consulta complexa\n",
    "* Utilize o comando UPDATE para atualizar a coluna MedicamentosAcimaMedia, colocando verdadeiro para aquelas pessoas que usam um número de medicamentos acima da média."
   ]
  },
  {
   "cell_type": "code",
   "execution_count": 16,
   "metadata": {},
   "outputs": [
    {
     "data": {
      "application/vnd.jupyter.widget-view+json": {
       "model_id": "d12cd74b-e7a0-4d4c-af2f-64e87a0b841e",
       "version_major": 2,
       "version_minor": 0
      },
      "method": "display_data"
     },
     "metadata": {},
     "output_type": "display_data"
    }
   ],
   "source": [
    "DROP VIEW IdNumMedAcimaMedia IF EXISTS;\n",
    "CREATE VIEW IdNumMedAcimaMedia AS (\n",
    "    SELECT Id FROM \n",
    "(SELECT COUNT(Uso.IdPessoa) AS Qtd, Uso.IdPessoa AS Id FROM UsoMedicamento Uso GROUP BY Uso.IdPessoa)\n",
    "WHERE Qtd > (SELECT AVG(Id) FROM \n",
    "(SELECT COUNT(Uso.IdPessoa) AS Id FROM UsoMedicamento Uso GROUP BY Uso.IdPessoa))\n",
    ");\n",
    "             \n",
    "UPDATE Matriz SET MedicamentosAcimaMedia = true WHERE Matriz.Id = \n",
    "(SELECT DISTINCT Id FROM IdNumMedAcimaMedia Uso WHERE Id = Matriz.Id);\n",
    "SELECT * FROM Matriz;"
   ]
  },
  {
   "cell_type": "markdown",
   "metadata": {},
   "source": [
    "## 13) Que análise interessante pode ser feita?\n",
    "* A partir da Matriz criada, proponha uma análise interessante."
   ]
  },
  {
   "cell_type": "markdown",
   "metadata": {},
   "source": [
    "### 13a) Descreva a seguir (em Markdown) qual a análise que você propõe."
   ]
  },
  {
   "cell_type": "markdown",
   "metadata": {},
   "source": [
    "Obter a porcentagem de pessoas acima de 60 anos que tomam medicamento a mais de um ano e compará-la com a porcentangem de pessoa abaixo de 60 anos que tomam medicamento a mais de um ano."
   ]
  },
  {
   "cell_type": "markdown",
   "metadata": {},
   "source": [
    "### 13b) Escreva uma consulta em SQL que fornece informações para a análise proposta."
   ]
  },
  {
   "cell_type": "code",
   "execution_count": 26,
   "metadata": {},
   "outputs": [
    {
     "data": {
      "text/plain": [
       "0.7821835958718087"
      ]
     },
     "execution_count": 26,
     "metadata": {},
     "output_type": "execute_result"
    }
   ],
   "source": [
    "SELECT(\n",
    "(CAST((SELECT COUNT(ID) FROM Matriz WHERE IdadeAte60 = false AND MaisUmAnoMedicamento = true) AS float))/\n",
    "(CAST((SELECT COUNT(ID) FROM Matriz WHERE IdadeAte60 = false) AS float))\n",
    ");"
   ]
  },
  {
   "cell_type": "code",
   "execution_count": 27,
   "metadata": {},
   "outputs": [
    {
     "data": {
      "text/plain": [
       "0.18010559155267578"
      ]
     },
     "execution_count": 27,
     "metadata": {},
     "output_type": "execute_result"
    }
   ],
   "source": [
    "SELECT(\n",
    "(CAST((SELECT COUNT(ID) FROM Matriz WHERE IdadeAte60 = true AND MaisUmAnoMedicamento = true) AS float))/\n",
    "(CAST((SELECT COUNT(ID) FROM Matriz WHERE IdadeAte60 = true) AS float))\n",
    ");"
   ]
  },
  {
   "cell_type": "code",
   "execution_count": null,
   "metadata": {},
   "outputs": [],
   "source": []
  }
 ],
 "metadata": {
  "kernelspec": {
   "display_name": "SQL",
   "language": "SQL",
   "name": "sql"
  },
  "language_info": {
   "codemirror_mode": "sql",
   "file_extension": ".sql",
   "mimetype": "",
   "name": "SQL",
   "nbconverter_exporter": "",
   "version": ""
  },
  "toc": {
   "base_numbering": 1,
   "nav_menu": {},
   "number_sections": false,
   "sideBar": false,
   "skip_h1_title": false,
   "title_cell": "Table of Contents",
   "title_sidebar": "Contents",
   "toc_cell": false,
   "toc_position": {},
   "toc_section_display": false,
   "toc_window_display": false
  }
 },
 "nbformat": 4,
 "nbformat_minor": 2
}
