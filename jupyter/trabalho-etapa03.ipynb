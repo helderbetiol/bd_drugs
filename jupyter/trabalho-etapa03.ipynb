{
 "cells": [
  {
   "cell_type": "code",
   "execution_count": 1,
   "metadata": {},
   "outputs": [],
   "source": [
    "%defaultDatasource jdbc:h2:mem:db"
   ]
  },
  {
   "cell_type": "markdown",
   "metadata": {},
   "source": [
    "# Analisando o Risco de um Usuário utilizar Drogas Ilícitas\n",
    "* Esta tarefa demonstrará o processo do desenvolvimento do sistema capaz de analizar o risco de um usuário utilizar drogas ilícitas."
   ]
  },
  {
   "cell_type": "markdown",
   "metadata": {},
   "source": [
    "* Modelo Conceitual: ER"
   ]
  },
  {
   "cell_type": "markdown",
   "metadata": {},
   "source": [
    "![Modelo Conceitual Entidade Relacionamento](ModeloConceitualER.png \"ER\")"
   ]
  },
  {
   "cell_type": "markdown",
   "metadata": {},
   "source": [
    "* Modelo Conceitual: UML"
   ]
  },
  {
   "cell_type": "markdown",
   "metadata": {},
   "source": [
    "![Modelo Conceitual UML](ModeloConceitualUML.png \"UML\")"
   ]
  },
  {
   "cell_type": "markdown",
   "metadata": {},
   "source": [
    "* Modelo Lógico"
   ]
  },
  {
   "cell_type": "markdown",
   "metadata": {},
   "source": [
    "Usuario(\\_id\\_, idade, sexo, nívelEducação, nacionalidade, etnia);<br/><br/>\n",
    "Personalidade(\\_user_id\\_, pontuaçãoN, pontuaçãoE, pontuaçãoO, pontuaçãoA, pontuaçãoC, impulsividade, pontuaçãoSS);<br/>\n",
    "FK: user_id -> id em Usuario;<br/><br/>\n",
    "RiscoUso_ilícitas(\\_user_id\\_, geral, amphetamines, amyl_nitrite, benzodiazepine, cannabis, cocaine, crack, ecstasy, heroin, ketamine, legal_highs, LSD, methadone, mushrooms, VSA);<br/>\n",
    "FK: user_id -> id em Usuario;<br/><br/>\n",
    "Alcohol(\\_user_id\\_, consumo);<br/>\n",
    "FK: user_id -> id em Usuario;<br/><br/>\n",
    "Amphetamines(\\_user_id\\_, consumo);<br/>\n",
    "FK: user_id -> id em Usuario;<br/><br/>\n",
    "Amyl_nitrite(\\_user_id\\_, consumo);<br/>\n",
    "FK: user_id -> id em Usuario;<br/><br/>\n",
    "Benzodiazepine(\\_user_id\\_, consumo);<br/>\n",
    "FK: user_id -> id em Usuario;<br/><br/>\n",
    "Cannabis(\\_user_id\\_, consumo);<br/>\n",
    "FK: user_id -> id em Usuario;<br/><br/>\n",
    "Chocolate(\\_user_id\\_, consumo);<br/>\n",
    "FK: user_id -> id em Usuario;<br/><br/>\n",
    "Cocaine(\\_user_id\\_, consumo);<br/>\n",
    "FK: user_id -> id em Usuario;<br/><br/>\n",
    "Caffeine(\\_user_id\\_, consumo);<br/>\n",
    "FK: user_id -> id em Usuario;<br/><br/>\n",
    "Crack(\\_user_id\\_, consumo);<br/>\n",
    "FK: user_id -> id em Usuario;<br/><br/>\n",
    "Ecstasy(\\_user_id\\_, consumo);<br/>\n",
    "FK: user_id -> id em Usuario;<br/><br/>\n",
    "Heroin(\\_user_id\\_, consumo);<br/>\n",
    "FK: user_id -> id em Usuario;<br/><br/>\n",
    "LSD(\\_user_id\\_, consumo);<br/>\n",
    "FK: user_id -> id em Usuario;<br/><br/>\n",
    "Methadone(\\_user_id\\_, consumo);<br/>\n",
    "FK: user_id -> id em Usuario;<br/><br/>\n",
    "Mushrooms(\\_user_id\\_, consumo);<br/>\n",
    "FK: user_id -> id em Usuario;<br/><br/>\n",
    "Nicotine(\\_user_id\\_, consumo);<br/>\n",
    "FK: user_id -> id em Usuario;<br/><br/>\n",
    "VSA(\\_user_id\\_, consumo);<br/>\n",
    "FK: user_id -> id em Usuario;<br/><br/>"
   ]
  },
  {
   "cell_type": "markdown",
   "metadata": {},
   "source": [
    "* A partir do arquivo CSV que está no diretório /data considere as seguintes tabelas SQL."
   ]
  },
  {
   "cell_type": "code",
   "execution_count": 2,
   "metadata": {},
   "outputs": [],
   "source": [
    "DROP TABLE Usuario IF EXISTS;\n",
    "DROP TABLE Personalidade IF EXISTS;\n",
    "DROP TABLE Consumo IF EXISTS;\n",
    "\n",
    "CREATE TABLE Usuario (\n",
    "    Id VARCHAR(5) NOT NULL,\n",
    "    Age FLOAT NOT NULL,\n",
    "    Gender VARCHAR(10) NOT NULL,\n",
    "    Education FLOAT NOT NULL,\n",
    "    Country FLOAT NOT NULL,\n",
    "    Ethnicity VARCHAR(10) NOT NULL,\n",
    "    PRIMARY KEY(Id)\n",
    ") AS SELECT\n",
    "    Id,\n",
    "    Age,\n",
    "    Gender,\n",
    "    Education,\n",
    "    Country,\n",
    "    Ethnicity\n",
    "FROM CSVREAD('../data/drug_consumption.csv');\n",
    "\n",
    "CREATE TABLE Personalidade (\n",
    "    User_Id VARCHAR(5) NOT NULL,\n",
    "    Nscore VARCHAR(10) NOT NULL,\n",
    "    Escore VARCHAR(10) NOT NULL,\n",
    "    Oscore VARCHAR(10) NOT NULL,\n",
    "    Ascore VARCHAR(10) NOT NULL,\n",
    "    Cscore VARCHAR(10) NOT NULL,\n",
    "    Impulsive  VARCHAR(10) NOT NULL,\n",
    "    SS  VARCHAR(10) NOT NULL,\n",
    "    FOREIGN KEY(User_Id)\n",
    "        REFERENCES Usuario(Id)\n",
    "            ON DELETE NO ACTION\n",
    "            ON UPDATE NO ACTION\n",
    ") AS SELECT\n",
    "    Id,\n",
    "    Nscore,\n",
    "    Escore,\n",
    "    Oscore,\n",
    "    Ascore,\n",
    "    Cscore,\n",
    "    Impulsive,\n",
    "    SS\n",
    "FROM CSVREAD('../data/drug_consumption.csv');\n",
    "\n",
    "CREATE TABLE Consumo (\n",
    "    User_Id VARCHAR(5) NOT NULL,\n",
    "    Alcohol  VARCHAR(4) NOT NULL,\n",
    "    Amphet VARCHAR(4) NOT NULL,\n",
    "    Amyl VARCHAR(4) NOT NULL,\n",
    "    Benzos VARCHAR(4) NOT NULL,\n",
    "    Caff VARCHAR(4) NOT NULL,\n",
    "    Cannabis VARCHAR(4) NOT NULL,\n",
    "    Choc VARCHAR(4) NOT NULL,\n",
    "    Coke VARCHAR(4) NOT NULL,\n",
    "    Crack VARCHAR(4) NOT NULL,\n",
    "    Ecstasy VARCHAR(4) NOT NULL,\n",
    "    Heroin VARCHAR(4) NOT NULL,\n",
    "    Ketamine VARCHAR(4) NOT NULL,\n",
    "    Legalh VARCHAR(4) NOT NULL,\n",
    "    LSD VARCHAR(4) NOT NULL,\n",
    "    Meth VARCHAR(4) NOT NULL,\n",
    "    Mushrooms VARCHAR(4) NOT NULL,\n",
    "    Nicotine VARCHAR(4) NOT NULL,\n",
    "    Semer VARCHAR(4) NOT NULL,\n",
    "    VSA VARCHAR(4) NOT NULL,\n",
    "    FOREIGN KEY(User_Id)\n",
    "        REFERENCES Usuario(Id)\n",
    "            ON DELETE NO ACTION\n",
    "            ON UPDATE NO ACTION\n",
    ") AS SELECT\n",
    "    Id,\n",
    "    Alcohol,\n",
    "    Amphet,\n",
    "    Amyl,\n",
    "    Benzos,\n",
    "    Caff,\n",
    "    Cannabis,\n",
    "    Choc,\n",
    "    Coke,\n",
    "    Crack,\n",
    "    Ecstasy,\n",
    "    Herion,\n",
    "    Ketamine,\n",
    "    Legalh,\n",
    "    LSD,\n",
    "    Meth,\n",
    "    Mushrooms,\n",
    "    Nicotine,\n",
    "    Semer,\n",
    "    VSA\n",
    "FROM CSVREAD('../data/drug_consumption.csv');"
   ]
  },
  {
   "cell_type": "markdown",
   "metadata": {},
   "source": [
    "# I. Traduzindo os valores"
   ]
  },
  {
   "cell_type": "markdown",
   "metadata": {},
   "source": [
    "##  Attribute Information:\n",
    "\n",
    "* Age (Real) is age of participant and has one of the values: <br>\n",
    "Value Meaning<br>\n",
    "-0.95197 18-24<br>\n",
    "-0.07854 25-34 <br>\n",
    "0.49788 35-44  <br>\n",
    "1.09449 45-54 <br>\n",
    "1.82213 55-64 <br>\n",
    "2.59171 65+<br>\n",
    "<br>\n",
    "* Gender (Real) is gender of participant: <br>\n",
    "0.48246 Female <br>\n",
    "-0.48246 Male<br>\n",
    "<br>\n",
    "* Education (Real) is level of education of participant and has one of the values: <br>\n",
    "-2.43591 Left school before 16 years <br>\n",
    "-1.73790 Left school at 16 years <br>\n",
    "-1.43719 Left school at 17 years<br>\n",
    "-1.22751 Left school at 18 years <br>\n",
    "-0.61113 Some college or university, no certificate or degree <br>\n",
    "-0.05921 Professional certificate/ diploma<br>\n",
    "0.45468 University degree  <br>\n",
    "1.16365 Masters degree<br>\n",
    "1.98437 Doctorate degree<br>\n",
    "<br>\n",
    "* Country (Real) is country of current residence of participant and has one of the values: <br>\n",
    "-0.09765 Australia <br>\n",
    "0.24923 Canada <br>\n",
    "-0.46841 New Zealand <br>\n",
    "-0.28519 Other <br>\n",
    "0.21128 Republic of Ireland <br> \n",
    "0.96082 UK <br>\n",
    "-0.57009 USA <br>\n",
    "<br>\n",
    "* Ethnicity (Real) is ethnicity of participant and has one of the values: <br>\n",
    "<br>\n",
    "-0.50212 Asian <br> \n",
    "-1.10702 Black <br>\n",
    "1.90725 Mixed-Black/Asian <br>\n",
    "0.12600 Mixed-White/Asian <br>\n",
    "-0.22166 Mixed-White/Black <br> \n",
    "0.11440 Other <br>\n",
    "-0.31685 White <br>\n",
    "<br>\n",
    "* Nscore (Real) is NEO-FFI-R Neuroticism. Possible values are presented in table below: <br>\n",
    "Nscore Cases Value Nscore Cases Value Nscore Cases Value <br>\n",
    "12 1 -3.46436 29 60 -0.67825 46 67 1.02119 <br>\n",
    "13 1 -3.15735 30 61 -0.58016 47 27 1.13281 <br>\n",
    "14 7 -2.75696 31 87 -0.46725 48 49 1.23461 <br>\n",
    "15 4 -2.52197 32 78 -0.34799 49 40 1.37297 <br>\n",
    "16 3 -2.42317 33 68 -0.24649 50 24 1.49158 <br>\n",
    "17 4 -2.34360 34 76 -0.14882 51 27 1.60383 <br>\n",
    "18 10 -2.21844 35 69 -0.05188 52 17 1.72012 <br>\n",
    "19 16 -2.05048 36 73 0.04257 53 20 1.83990 <br>\n",
    "20 24 -1.86962 37 67 0.13606 54 15 1.98437 <br>\n",
    "21 31 -1.69163 38 63 0.22393 55 11 2.12700 <br>\n",
    "22 26 -1.55078 39 66 0.31287 56 10 2.28554 <br>\n",
    "23 29 -1.43907 40 80 0.41667 57 6 2.46262 <br>\n",
    "24 35 -1.32828 41 61 0.52135 58 3 2.61139 <br>\n",
    "25 56 -1.19430 42 77 0.62967 59 5 2.82196 <br>\n",
    "26 57 -1.05308 43 49 0.73545 60 2 3.27393 <br>\n",
    "27 65 -0.92104 44 51 0.82562 <br>\n",
    "28 70 -0.79151 45 37 0.91093 <br>\n",
    "<br>\n",
    "\n",
    "8. Escore (Real) is NEO-FFI-R Extraversion. Possible values are presented in table below: <br>\n",
    "Escore Cases Value Escore Cases Value Escore Cases Value <br>\n",
    "16 2 -3.27393 31 55 -1.23177 45 91 0.80523 <br>\n",
    "18 1 -3.00537 32 52 -1.09207 46 69 0.96248 <br>\n",
    "19 6 -2.72827 33 77 -0.94779 47 64 1.11406 <br>\n",
    "20 3 -2.53830 34 68 -0.80615 48 62 1.28610 <br>\n",
    "21 3 -2.44904 35 58 -0.69509 49 37 1.45421 <br>\n",
    "22 8 -2.32338 36 89 -0.57545 50 25 1.58487 <br>\n",
    "23 5 -2.21069 37 90 -0.43999 51 34 1.74091 <br>\n",
    "24 9 -2.11437 38 106 -0.30033 52 21 1.93886 <br>\n",
    "25 4 -2.03972 39 107 -0.15487 53 15 2.12700 <br>\n",
    "26 21 -1.92173 40 130 0.00332 54 10 2.32338 <br>\n",
    "27 23 -1.76250 41 116 0.16767 55 9 2.57309 <br>\n",
    "28 23 -1.63340 42 109 0.32197 56 2 2.85950 <br>\n",
    "29 32 -1.50796 43 105 0.47617 58 1 3.00537 <br>\n",
    "30 38 -1.37639 44 103 0.63779 59 2 3.27393 <br>\n",
    "Descriptive statistics <br>\n",
    "Min Max Mean Std.dev. <br>\n",
    "-3.27393 3.27393 -0.00016 0.99745 <br>\n",
    "\n",
    "9. Oscore (Real) is NEO-FFI-R Openness to experience. Possible values are presented in table below: <br>\n",
    "Oscore Cases Value Oscore Cases Value Oscore Cases Value <br>\n",
    "24 2 -3.27393 38 64 -1.11902 50 83 0.58331 <br>\n",
    "26 4 -2.85950 39 60 -0.97631 51 87 0.72330 <br>\n",
    "28 4 -2.63199 40 68 -0.84732 52 87 0.88309 <br>\n",
    "29 11 -2.39883 41 76 -0.71727 53 81 1.06238 <br>\n",
    "30 9 -2.21069 42 87 -0.58331 54 57 1.24033 <br>\n",
    "31 9 -2.09015 43 86 -0.45174 55 63 1.43533 <br>\n",
    "32 13 -1.97495 44 101 -0.31776 56 38 1.65653 <br>\n",
    "33 23 -1.82919 45 103 -0.17779 57 34 1.88511 <br>\n",
    "34 25 -1.68062 46 134 -0.01928 58 19 2.15324 <br>\n",
    "35 26 -1.55521 47 107 0.14143 59 13 2.44904 <br>\n",
    "36 39 -1.42424 48 116 0.29338 60 7 2.90161 <br>\n",
    "37 51 -1.27553 49 98 0.44585 <br>\n",
    "Descriptive statistics <br>\n",
    "Min Max Mean Std.dev. <br>\n",
    "-3.27393 2.90161 -0.00053 0.99623 <br>\n",
    "<br>\n",
    "10. Ascore (Real) is NEO-FFI-R Agreeableness. Possible values are presented in table below: <br>\n",
    "Ascore Cases Value Ascore Cases Value Ascore Cases Value <br>\n",
    "12 1 -3.46436 34 42 -1.34289 48 104 0.76096 <br>\n",
    "16 1 -3.15735 35 45 -1.21213 49 85 0.94156 <br>\n",
    "18 1 -3.00537 36 62 -1.07533 50 68 1.11406 <br>\n",
    "23 1 -2.90161 37 83 -0.91699 51 58 1.2861 <br>\n",
    "24 2 -2.78793 38 82 -0.76096 52 39 1.45039 <br>\n",
    "25 1 -2.70172 39 102 -0.60633 53 36 1.61108 <br>\n",
    "26 7 -2.53830 40 98 -0.45321 54 36 1.81866 <br>\n",
    "27 7 -2.35413 41 114 -0.30172 55 16 2.03972 <br>\n",
    "28 8 -2.21844 42 101 -0.15487 56 14 2.23427 <br>\n",
    "29 13 -2.07848 43 105 -0.01729 57 8 2.46262 <br>\n",
    "30 18 -1.92595 44 118 0.13136 58 7 2.75696 <br>\n",
    "31 24 -1.77200 45 112 0.28783 59 1 3.15735 <br>\n",
    "32 30 -1.62090 46 100 0.43852 60 1 3.46436 <br>\n",
    "33 34 -1.47955 47 100 0.59042 <br>\n",
    "Descriptive statistics <br>\n",
    "Min Max Mean Std.dev. <br>\n",
    "-3.46436 3.46436 -0.00024 0.99744 <br>\n",
    "<br>\n",
    "11. Cscore (Real) is NEO-FFI-R Conscientiousness. Possible values are presented in table below: <br>\n",
    "Cscore Cases Value Cscore Cases Value Cscore Cases Value <br>\n",
    "17 1 -3.46436 32 39 -1.25773 46 113 0.58489 <br>\n",
    "19 1 -3.15735 33 49 -1.13788 47 95 0.7583 <br>\n",
    "20 3 -2.90161 34 55 -1.01450 48 95 0.93949 <br>\n",
    "21 2 -2.72827 35 55 -0.89891 49 76 1.13407 <br>\n",
    "22 5 -2.57309 36 69 -0.78155 50 47 1.30612 <br>\n",
    "23 5 -2.42317 37 81 -0.65253 51 43 1.46191 <br>\n",
    "24 6 -2.30408 38 77 -0.52745 52 34 1.63088 <br>\n",
    "25 9 -2.18109 39 87 -0.40581 53 28 1.81175 <br>\n",
    "26 13 -2.04506 40 97 -0.27607 54 27 2.04506 <br>\n",
    "27 13 -1.92173 41 99 -0.14277 55 13 2.33337 <br>\n",
    "28 25 -1.78169 42 105 -0.00665 56 8 2.63199 <br>\n",
    "29 24 -1.64101 43 90 0.12331 57 3 3.00537 <br>\n",
    "30 29 -1.51840 44 111 0.25953 59 1 3.46436 <br>\n",
    "31 41 -1.38502 45 111 0.41594 <br>\n",
    "Descriptive statistics <br>\n",
    "Min Max Mean Std.dev. <br>\n",
    "-3.46436 3.46436 -0.00039 0.99752 <br>\n",
    "<br>\n",
    "12. Impulsive (Real) is impulsiveness measured by BIS-11. Possible values are presented in table below: <br>\n",
    "Impulsiveness Cases Fraction <br>\n",
    "-2.55524 20 1.06% <br>\n",
    "-1.37983 276 14.64% <br>\n",
    "-0.71126 307 16.29% <br>\n",
    "-0.21712 355 18.83% <br>\n",
    "0.19268 257 13.63% <br>\n",
    "0.52975 216 11.46% <br>\n",
    "0.88113 195 10.34% <br>\n",
    "1.29221 148 7.85% <br>\n",
    "1.86203 104 5.52% <br>\n",
    "2.90161 7 0.37% <br>\n",
    "Descriptive statistics <br>\n",
    "Min Max Mean Std.dev. <br>\n",
    "-2.55524 2.90161 0.00721 0.95446 <br>\n",
    "<br>\n",
    "13. SS (Real) is sensation seeing measured by ImpSS. Possible values are presented in table below: <br>\n",
    "SS Cases Fraction <br>\n",
    "-2.07848 71 3.77% <br>\n",
    "-1.54858 87 4.62% <br>\n",
    "-1.18084 132 7.00% <br>\n",
    "-0.84637 169 8.97% <br>\n",
    "-0.52593 211 11.19% <br>\n",
    "-0.21575 223 11.83% <br>\n",
    "0.07987 219 11.62% <br>\n",
    "0.40148 249 13.21% <br>\n",
    "0.76540 211 11.19% <br>\n",
    "1.22470 210 11.14% <br>\n",
    "1.92173 103 5.46% <br>\n",
    "Descriptive statistics <br>\n",
    "Min Max Mean Std.dev. <br>\n",
    "-2.07848 1.92173 -0.00329 0.96370 <br>\n",
    " <br>\n",
    "Consumo:\n",
    "<br>\n",
    "CL0 Never Used<br>\n",
    "CL1 Used over a Decade Ago <br>\n",
    "CL2 Used in Last Decade <br>\n",
    "CL3 Used in Last Year <br>\n",
    "CL4 Used in Last Month <br>\n",
    "CL5 Used in Last Week <br>\n",
    "CL6 Used in Last Day<br>"
   ]
  },
  {
   "cell_type": "markdown",
   "metadata": {},
   "source": [
    "* Tornando as informações mais claras"
   ]
  },
  {
   "cell_type": "code",
   "execution_count": 3,
   "metadata": {},
   "outputs": [],
   "source": [
    "UPDATE Usuario SET Gender = 'F' WHERE Gender = '0.48246';\n",
    "UPDATE Usuario SET Gender = 'M' WHERE Gender = '-0.48246';"
   ]
  },
  {
   "cell_type": "markdown",
   "metadata": {},
   "source": [
    "# I. Consultas SQL\n"
   ]
  },
  {
   "cell_type": "markdown",
   "metadata": {},
   "source": [
    "# Análise Estatística"
   ]
  },
  {
   "cell_type": "markdown",
   "metadata": {},
   "source": [
    "* Número de pessoas que já usaram alguma droga alguma vez na vida, com a porcentagem sobre o total."
   ]
  },
  {
   "cell_type": "code",
   "execution_count": 4,
   "metadata": {},
   "outputs": [
    {
     "data": {
      "application/vnd.jupyter.widget-view+json": {
       "model_id": "fee6a03a-8ef6-4732-8a10-ae4cecbc889a",
       "version_major": 2,
       "version_minor": 0
      },
      "method": "display_data"
     },
     "metadata": {},
     "output_type": "display_data"
    }
   ],
   "source": [
    "DROP TABLE IF EXISTS ConsumedAtLeastOnce;\n",
    "CREATE TABLE ConsumedAtLeastOnce (\n",
    "\tName VARCHAR(20),\n",
    "\tAtLeastOnce INT,\n",
    "\tPercentage FLOAT\n",
    ");\n",
    "\n",
    "INSERT INTO ConsumedAtLeastOnce (Name) VALUES ('Amphetamine');\n",
    "INSERT INTO ConsumedAtLeastOnce (Name) VALUES ('Alcohol');\n",
    "INSERT INTO ConsumedAtLeastOnce (Name) VALUES ('Amyl_nitrite');\n",
    "INSERT INTO ConsumedAtLeastOnce (Name) VALUES ('Benzodiazepine');\n",
    "INSERT INTO ConsumedAtLeastOnce (Name) VALUES ('Cannabis');\n",
    "INSERT INTO ConsumedAtLeastOnce (Name) VALUES ('Chocolate');\n",
    "INSERT INTO ConsumedAtLeastOnce (Name) VALUES ('Cocaine');\n",
    "INSERT INTO ConsumedAtLeastOnce (Name) VALUES ('Caffeine');\n",
    "INSERT INTO ConsumedAtLeastOnce (Name) VALUES ('Crack');\n",
    "INSERT INTO ConsumedAtLeastOnce (Name) VALUES ('Ecstasy');\n",
    "INSERT INTO ConsumedAtLeastOnce (Name) VALUES ('Heroin');\n",
    "INSERT INTO ConsumedAtLeastOnce (Name) VALUES ('LSD');\n",
    "INSERT INTO ConsumedAtLeastOnce (Name) VALUES ('Mushrooms');\n",
    "INSERT INTO ConsumedAtLeastOnce (Name) VALUES ('Nicotine');\n",
    "INSERT INTO ConsumedAtLeastOnce (Name) VALUES ('VSA');\n",
    "\n",
    "UPDATE ConsumedAtLeastOnce\n",
    "SET AtLeastOnce = (SELECT COUNT(User_Id) FROM Consumo WHERE Amphet <> 'CL0')\n",
    "WHERE Name = 'Amphetamine';\n",
    "UPDATE ConsumedAtLeastOnce\n",
    "SET AtLeastOnce = (SELECT COUNT(User_Id) FROM Consumo WHERE Alcohol <> 'CL0')\n",
    "WHERE Name = 'Alcohol';\n",
    "UPDATE ConsumedAtLeastOnce\n",
    "SET AtLeastOnce = (SELECT COUNT(User_Id) FROM Consumo WHERE Amyl <> 'CL0')\n",
    "WHERE Name = 'Amyl_nitrite';\n",
    "UPDATE ConsumedAtLeastOnce\n",
    "SET AtLeastOnce = (SELECT COUNT(User_Id) FROM Consumo WHERE Benzos <> 'CL0')\n",
    "WHERE Name = 'Benzodiazepine';\n",
    "UPDATE ConsumedAtLeastOnce\n",
    "SET AtLeastOnce = (SELECT COUNT(User_Id) FROM Consumo WHERE Cannabis <> 'CL0')\n",
    "WHERE Name = 'Cannabis';\n",
    "UPDATE ConsumedAtLeastOnce\n",
    "SET AtLeastOnce = (SELECT COUNT(User_Id) FROM Consumo WHERE Choc <> 'CL0')\n",
    "WHERE Name = 'Chocolate';\n",
    "UPDATE ConsumedAtLeastOnce\n",
    "SET AtLeastOnce = (SELECT COUNT(User_Id) FROM Consumo WHERE Coke <> 'CL0')\n",
    "WHERE Name = 'Cocaine';\n",
    "UPDATE ConsumedAtLeastOnce\n",
    "SET AtLeastOnce = (SELECT COUNT(User_Id) FROM Consumo WHERE Caff <> 'CL0')\n",
    "WHERE Name = 'Caffeine';\n",
    "UPDATE ConsumedAtLeastOnce\n",
    "SET AtLeastOnce = (SELECT COUNT(User_Id) FROM Consumo WHERE Crack <> 'CL0')\n",
    "WHERE Name = 'Crack';\n",
    "UPDATE ConsumedAtLeastOnce\n",
    "SET AtLeastOnce = (SELECT COUNT(User_Id) FROM Consumo WHERE Ecstasy <> 'CL0')\n",
    "WHERE Name = 'Ecstasy';\n",
    "UPDATE ConsumedAtLeastOnce\n",
    "SET AtLeastOnce = (SELECT COUNT(User_Id) FROM Consumo WHERE Heroin <> 'CL0')\n",
    "WHERE Name = 'Heroin';\n",
    "UPDATE ConsumedAtLeastOnce\n",
    "SET AtLeastOnce = (SELECT COUNT(User_Id) FROM Consumo WHERE LSD <> 'CL0')\n",
    "WHERE Name = 'LSD';\n",
    "UPDATE ConsumedAtLeastOnce\n",
    "SET AtLeastOnce = (SELECT COUNT(User_Id) FROM Consumo WHERE Mushrooms <> 'CL0')\n",
    "WHERE Name = 'Mushrooms';\n",
    "UPDATE ConsumedAtLeastOnce\n",
    "SET AtLeastOnce = (SELECT COUNT(User_Id) FROM Consumo WHERE Nicotine <> 'CL0')\n",
    "WHERE Name = 'Nicotine';\n",
    "UPDATE ConsumedAtLeastOnce\n",
    "SET AtLeastOnce = (SELECT COUNT(User_Id) FROM Consumo WHERE VSA <> 'CL0')\n",
    "WHERE Name = 'VSA';\n",
    "\n",
    "UPDATE ConsumedAtLeastOnce\n",
    "SET Percentage = (CAST(AtLeastOnce AS FLOAT) / \n",
    "                  CAST((SELECT COUNT(User_Id) FROM Consumo) AS FLOAT\n",
    "                      ))*100;\n",
    "\n",
    "SELECT * FROM ConsumedAtLeastOnce;"
   ]
  },
  {
   "cell_type": "markdown",
   "metadata": {},
   "source": [
    "* Quantos usuários usaram alguma droga ilícita no último mês e quantos não usaram?"
   ]
  },
  {
   "cell_type": "code",
   "execution_count": 5,
   "metadata": {},
   "outputs": [],
   "source": [
    "DROP TABLE UsaIlicitas IF EXISTS;\n",
    "DROP VIEW UsaIlicitasId IF EXISTS;\n",
    "\n",
    "CREATE TABLE UsaIlicitas (\n",
    "    User_Id VARCHAR(5) NOT NULL,\n",
    "    UsaIlicita BOOLEAN DEFAULT false,\n",
    "    FOREIGN KEY(User_Id)\n",
    "        REFERENCES Usuario(Id)\n",
    "            ON DELETE NO ACTION\n",
    "            ON UPDATE NO ACTION\n",
    ");\n",
    "\n",
    "INSERT INTO UsaIlicitas (User_Id)\n",
    "SELECT Id FROM Usuario;\n",
    "\n",
    "CREATE VIEW UsaIlicitasId AS\n",
    "SELECT C.User_Id FROM Consumo C WHERE \n",
    "C.Amphet = 'CL4' OR C.Amphet ='CL5' OR C.Amphet ='CL6' OR\n",
    "C.Benzos = 'CL4' OR C.Benzos ='CL5' OR C.Benzos ='CL6' OR\n",
    "C.Cannabis = 'CL4' OR C.Cannabis ='CL5' OR C.Cannabis ='CL6' OR\n",
    "C.Coke = 'CL4' OR C.Coke ='CL5' OR C.Coke ='CL6' OR\n",
    "C.Crack = 'CL4' OR C.Crack ='CL5' OR C.Crack ='CL6' OR\n",
    "C.Ecstasy = 'CL4' OR C.Ecstasy ='CL5' OR C.Ecstasy ='CL6' OR\n",
    "C.Heroin = 'CL4' OR C.Heroin ='CL5' OR C.Heroin ='CL6' OR\n",
    "C.Legalh = 'CL4' OR C.Legalh ='CL5' OR C.Legalh ='CL6' OR\n",
    "C.LSD = 'CL4' OR C.LSD ='CL5' OR C.LSD ='CL6' OR\n",
    "C.Meth = 'CL4' OR C.Meth ='CL5' OR C.Meth ='CL6' OR\n",
    "C.Mushrooms = 'CL4' OR C.Mushrooms ='CL5' OR C.Mushrooms ='CL6' OR\n",
    "C.VSA = 'CL4' OR C.VSA ='CL5' OR C.VSA ='CL6';"
   ]
  },
  {
   "cell_type": "code",
   "execution_count": 6,
   "metadata": {},
   "outputs": [],
   "source": [
    "UPDATE UsaIlicitas Ui SET Ui.UsaIlicita = true \n",
    "WHERE EXISTS (SELECT Uid.User_Id FROM UsaIlicitasId Uid WHERE Ui.User_Id = Uid.User_Id);"
   ]
  },
  {
   "cell_type": "code",
   "execution_count": 7,
   "metadata": {
    "scrolled": true
   },
   "outputs": [
    {
     "data": {
      "application/vnd.jupyter.widget-view+json": {
       "model_id": "91042c00-c1b4-47f3-a1aa-847fd00f8749",
       "version_major": 2,
       "version_minor": 0
      },
      "method": "display_data"
     },
     "metadata": {},
     "output_type": "display_data"
    }
   ],
   "source": [
    "SELECT UsaIlicita, COUNT(UsaIlicita) NumeroUsuarios FROM UsaIlicitas GROUP BY UsaIlicita;"
   ]
  },
  {
   "cell_type": "markdown",
   "metadata": {},
   "source": [
    "* Quantos usuários consumiram álcool no último dia?"
   ]
  },
  {
   "cell_type": "code",
   "execution_count": 8,
   "metadata": {},
   "outputs": [
    {
     "data": {
      "text/plain": [
       "505"
      ]
     },
     "execution_count": 8,
     "metadata": {},
     "output_type": "execute_result"
    }
   ],
   "source": [
    "SELECT COUNT(*) AlcoolUltimoDia\n",
    "FROM Consumo C\n",
    "GROUP BY C.Alcohol\n",
    "HAVING C.Alcohol = 'CL6';"
   ]
  },
  {
   "cell_type": "markdown",
   "metadata": {},
   "source": [
    "# Análise de Correlação de Variáveis"
   ]
  },
  {
   "cell_type": "markdown",
   "metadata": {},
   "source": [
    "* Pessoas que possuem uma pontuação no traço de personalidade neuroticismo maior do que a média tendem a usar mais drogas ilícitas recentemente?"
   ]
  },
  {
   "cell_type": "code",
   "execution_count": 9,
   "metadata": {},
   "outputs": [
    {
     "data": {
      "text/plain": [
       "375"
      ]
     },
     "execution_count": 9,
     "metadata": {},
     "output_type": "execute_result"
    }
   ],
   "source": [
    "SELECT COUNT(*) N_Usam_DrogaIlicita\n",
    "FROM Personalidade P, UsaIlicitasId U\n",
    "WHERE P.Nscore < '-1.55078' AND P.User_Id = U.User_Id;"
   ]
  },
  {
   "cell_type": "markdown",
   "metadata": {},
   "source": [
    "* Quantos e qual a porcentagem dos usuarios de drogas com mais frequencia sao jovens?"
   ]
  },
  {
   "cell_type": "code",
   "execution_count": 10,
   "metadata": {},
   "outputs": [
    {
     "data": {
      "text/plain": [
       "526"
      ]
     },
     "execution_count": 10,
     "metadata": {},
     "output_type": "execute_result"
    }
   ],
   "source": [
    "SELECT COUNT(Uid.User_Id) FROM UsaIlicitasId Uid, Usuario U\n",
    "WHERE Uid.User_Id = U.Id AND U.Age = -0.95197;"
   ]
  },
  {
   "cell_type": "code",
   "execution_count": 11,
   "metadata": {},
   "outputs": [
    {
     "data": {
      "text/plain": [
       "0.5297079556898288"
      ]
     },
     "execution_count": 11,
     "metadata": {},
     "output_type": "execute_result"
    }
   ],
   "source": [
    "SELECT(\n",
    "CAST(\n",
    "(\n",
    "\tCAST(\n",
    "\t(SELECT COUNT(Uid.User_Id) FROM UsaIlicitasId Uid, Usuario U\n",
    "\tWHERE Uid.User_Id = U.Id AND U.Age = -0.95197) \n",
    "\tAS FLOAT)\n",
    "\t/\n",
    "\tCAST(\n",
    "\t(SELECT COUNT(User_Id) FROM UsaIlicitasId) \n",
    "\tAS FLOAT) \n",
    ")\n",
    "AS FLOAT)\n",
    ");"
   ]
  }
 ],
 "metadata": {
  "kernelspec": {
   "display_name": "SQL",
   "language": "SQL",
   "name": "sql"
  },
  "language_info": {
   "codemirror_mode": "sql",
   "file_extension": ".sql",
   "mimetype": "",
   "name": "SQL",
   "nbconverter_exporter": "",
   "version": ""
  },
  "toc": {
   "base_numbering": 1,
   "nav_menu": {},
   "number_sections": false,
   "sideBar": false,
   "skip_h1_title": false,
   "title_cell": "Table of Contents",
   "title_sidebar": "Contents",
   "toc_cell": false,
   "toc_position": {},
   "toc_section_display": false,
   "toc_window_display": false
  }
 },
 "nbformat": 4,
 "nbformat_minor": 2
}
