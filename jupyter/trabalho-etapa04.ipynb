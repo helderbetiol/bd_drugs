{
 "cells": [
  {
   "cell_type": "markdown",
   "metadata": {},
   "source": [
    "# Analisando o Risco de um Usuário utilizar Drogas Ilícitas\n",
    "* Esta tarefa demonstrará o processo do desenvolvimento do sistema capaz de analizar o risco de um usuário utilizar drogas ilícitas."
   ]
  },
  {
   "cell_type": "markdown",
   "metadata": {},
   "source": [
    "* Modelo Conceitual: ER"
   ]
  },
  {
   "cell_type": "markdown",
   "metadata": {},
   "source": [
    "![Modelo Conceitual Entidade Relacionamento](ModeloConceitual3.png \"ER\")"
   ]
  },
  {
   "cell_type": "markdown",
   "metadata": {},
   "source": [
    "* Modelo Lógico"
   ]
  },
  {
   "cell_type": "markdown",
   "metadata": {},
   "source": [
    "![Modelo Lógico](ModeloLogico3.png \"ER\")"
   ]
  },
  {
   "cell_type": "markdown",
   "metadata": {},
   "source": [
    "* A partir do arquivo drug_consumption.xml que está no diretório /data serão realizadas xqueries."
   ]
  },
  {
   "cell_type": "markdown",
   "metadata": {},
   "source": [
    "# I. Traduzindo os valores da base de dados"
   ]
  },
  {
   "cell_type": "markdown",
   "metadata": {},
   "source": [
    "##  Attribute Information:\n",
    "\n",
    "* Age (Real) is age of participant and has one of the values: <br>\n",
    "Value Meaning<br>\n",
    "-0.95197 18-24<br>\n",
    "-0.07854 25-34 <br>\n",
    "0.49788 35-44  <br>\n",
    "1.09449 45-54 <br>\n",
    "1.82213 55-64 <br>\n",
    "2.59171 65+<br>\n",
    "<br>\n",
    "* Gender (Real) is gender of participant: <br>\n",
    "0.48246 Female <br>\n",
    "-0.48246 Male<br>\n",
    "<br>\n",
    "* Education (Real) is level of education of participant and has one of the values: <br>\n",
    "-2.43591 Left school before 16 years <br>\n",
    "-1.73790 Left school at 16 years <br>\n",
    "-1.43719 Left school at 17 years<br>\n",
    "-1.22751 Left school at 18 years <br>\n",
    "-0.61113 Some college or university, no certificate or degree <br>\n",
    "-0.05921 Professional certificate/ diploma<br>\n",
    "0.45468 University degree  <br>\n",
    "1.16365 Masters degree<br>\n",
    "1.98437 Doctorate degree<br>\n",
    "<br>\n",
    "* Country (Real) is country of current residence of participant and has one of the values: <br>\n",
    "-0.09765 Australia <br>\n",
    "0.24923 Canada <br>\n",
    "-0.46841 New Zealand <br>\n",
    "-0.28519 Other <br>\n",
    "0.21128 Republic of Ireland <br> \n",
    "0.96082 UK <br>\n",
    "-0.57009 USA <br>\n",
    "<br>\n",
    "* Ethnicity (Real) is ethnicity of participant and has one of the values: <br>\n",
    "<br>\n",
    "-0.50212 Asian <br> \n",
    "-1.10702 Black <br>\n",
    "1.90725 Mixed-Black/Asian <br>\n",
    "0.12600 Mixed-White/Asian <br>\n",
    "-0.22166 Mixed-White/Black <br> \n",
    "0.11440 Other <br>\n",
    "-0.31685 White <br>\n",
    "<br>\n",
    "* Nscore (Real) is NEO-FFI-R Neuroticism. Possible values are presented in table below: <br>\n",
    "Nscore Cases Value Nscore Cases Value Nscore Cases Value <br>\n",
    "12 1 -3.46436 29 60 -0.67825 46 67 1.02119 <br>\n",
    "13 1 -3.15735 30 61 -0.58016 47 27 1.13281 <br>\n",
    "14 7 -2.75696 31 87 -0.46725 48 49 1.23461 <br>\n",
    "15 4 -2.52197 32 78 -0.34799 49 40 1.37297 <br>\n",
    "16 3 -2.42317 33 68 -0.24649 50 24 1.49158 <br>\n",
    "17 4 -2.34360 34 76 -0.14882 51 27 1.60383 <br>\n",
    "18 10 -2.21844 35 69 -0.05188 52 17 1.72012 <br>\n",
    "19 16 -2.05048 36 73 0.04257 53 20 1.83990 <br>\n",
    "20 24 -1.86962 37 67 0.13606 54 15 1.98437 <br>\n",
    "21 31 -1.69163 38 63 0.22393 55 11 2.12700 <br>\n",
    "22 26 -1.55078 39 66 0.31287 56 10 2.28554 <br>\n",
    "23 29 -1.43907 40 80 0.41667 57 6 2.46262 <br>\n",
    "24 35 -1.32828 41 61 0.52135 58 3 2.61139 <br>\n",
    "25 56 -1.19430 42 77 0.62967 59 5 2.82196 <br>\n",
    "26 57 -1.05308 43 49 0.73545 60 2 3.27393 <br>\n",
    "27 65 -0.92104 44 51 0.82562 <br>\n",
    "28 70 -0.79151 45 37 0.91093 <br>\n",
    "<br>\n",
    "\n",
    "8. Escore (Real) is NEO-FFI-R Extraversion. Possible values are presented in table below: <br>\n",
    "Escore Cases Value Escore Cases Value Escore Cases Value <br>\n",
    "16 2 -3.27393 31 55 -1.23177 45 91 0.80523 <br>\n",
    "18 1 -3.00537 32 52 -1.09207 46 69 0.96248 <br>\n",
    "19 6 -2.72827 33 77 -0.94779 47 64 1.11406 <br>\n",
    "20 3 -2.53830 34 68 -0.80615 48 62 1.28610 <br>\n",
    "21 3 -2.44904 35 58 -0.69509 49 37 1.45421 <br>\n",
    "22 8 -2.32338 36 89 -0.57545 50 25 1.58487 <br>\n",
    "23 5 -2.21069 37 90 -0.43999 51 34 1.74091 <br>\n",
    "24 9 -2.11437 38 106 -0.30033 52 21 1.93886 <br>\n",
    "25 4 -2.03972 39 107 -0.15487 53 15 2.12700 <br>\n",
    "26 21 -1.92173 40 130 0.00332 54 10 2.32338 <br>\n",
    "27 23 -1.76250 41 116 0.16767 55 9 2.57309 <br>\n",
    "28 23 -1.63340 42 109 0.32197 56 2 2.85950 <br>\n",
    "29 32 -1.50796 43 105 0.47617 58 1 3.00537 <br>\n",
    "30 38 -1.37639 44 103 0.63779 59 2 3.27393 <br>\n",
    "Descriptive statistics <br>\n",
    "Min Max Mean Std.dev. <br>\n",
    "-3.27393 3.27393 -0.00016 0.99745 <br>\n",
    "\n",
    "9. Oscore (Real) is NEO-FFI-R Openness to experience. Possible values are presented in table below: <br>\n",
    "Oscore Cases Value Oscore Cases Value Oscore Cases Value <br>\n",
    "24 2 -3.27393 38 64 -1.11902 50 83 0.58331 <br>\n",
    "26 4 -2.85950 39 60 -0.97631 51 87 0.72330 <br>\n",
    "28 4 -2.63199 40 68 -0.84732 52 87 0.88309 <br>\n",
    "29 11 -2.39883 41 76 -0.71727 53 81 1.06238 <br>\n",
    "30 9 -2.21069 42 87 -0.58331 54 57 1.24033 <br>\n",
    "31 9 -2.09015 43 86 -0.45174 55 63 1.43533 <br>\n",
    "32 13 -1.97495 44 101 -0.31776 56 38 1.65653 <br>\n",
    "33 23 -1.82919 45 103 -0.17779 57 34 1.88511 <br>\n",
    "34 25 -1.68062 46 134 -0.01928 58 19 2.15324 <br>\n",
    "35 26 -1.55521 47 107 0.14143 59 13 2.44904 <br>\n",
    "36 39 -1.42424 48 116 0.29338 60 7 2.90161 <br>\n",
    "37 51 -1.27553 49 98 0.44585 <br>\n",
    "Descriptive statistics <br>\n",
    "Min Max Mean Std.dev. <br>\n",
    "-3.27393 2.90161 -0.00053 0.99623 <br>\n",
    "<br>\n",
    "10. Ascore (Real) is NEO-FFI-R Agreeableness. Possible values are presented in table below: <br>\n",
    "Ascore Cases Value Ascore Cases Value Ascore Cases Value <br>\n",
    "12 1 -3.46436 34 42 -1.34289 48 104 0.76096 <br>\n",
    "16 1 -3.15735 35 45 -1.21213 49 85 0.94156 <br>\n",
    "18 1 -3.00537 36 62 -1.07533 50 68 1.11406 <br>\n",
    "23 1 -2.90161 37 83 -0.91699 51 58 1.2861 <br>\n",
    "24 2 -2.78793 38 82 -0.76096 52 39 1.45039 <br>\n",
    "25 1 -2.70172 39 102 -0.60633 53 36 1.61108 <br>\n",
    "26 7 -2.53830 40 98 -0.45321 54 36 1.81866 <br>\n",
    "27 7 -2.35413 41 114 -0.30172 55 16 2.03972 <br>\n",
    "28 8 -2.21844 42 101 -0.15487 56 14 2.23427 <br>\n",
    "29 13 -2.07848 43 105 -0.01729 57 8 2.46262 <br>\n",
    "30 18 -1.92595 44 118 0.13136 58 7 2.75696 <br>\n",
    "31 24 -1.77200 45 112 0.28783 59 1 3.15735 <br>\n",
    "32 30 -1.62090 46 100 0.43852 60 1 3.46436 <br>\n",
    "33 34 -1.47955 47 100 0.59042 <br>\n",
    "Descriptive statistics <br>\n",
    "Min Max Mean Std.dev. <br>\n",
    "-3.46436 3.46436 -0.00024 0.99744 <br>\n",
    "<br>\n",
    "11. Cscore (Real) is NEO-FFI-R Conscientiousness. Possible values are presented in table below: <br>\n",
    "Cscore Cases Value Cscore Cases Value Cscore Cases Value <br>\n",
    "17 1 -3.46436 32 39 -1.25773 46 113 0.58489 <br>\n",
    "19 1 -3.15735 33 49 -1.13788 47 95 0.7583 <br>\n",
    "20 3 -2.90161 34 55 -1.01450 48 95 0.93949 <br>\n",
    "21 2 -2.72827 35 55 -0.89891 49 76 1.13407 <br>\n",
    "22 5 -2.57309 36 69 -0.78155 50 47 1.30612 <br>\n",
    "23 5 -2.42317 37 81 -0.65253 51 43 1.46191 <br>\n",
    "24 6 -2.30408 38 77 -0.52745 52 34 1.63088 <br>\n",
    "25 9 -2.18109 39 87 -0.40581 53 28 1.81175 <br>\n",
    "26 13 -2.04506 40 97 -0.27607 54 27 2.04506 <br>\n",
    "27 13 -1.92173 41 99 -0.14277 55 13 2.33337 <br>\n",
    "28 25 -1.78169 42 105 -0.00665 56 8 2.63199 <br>\n",
    "29 24 -1.64101 43 90 0.12331 57 3 3.00537 <br>\n",
    "30 29 -1.51840 44 111 0.25953 59 1 3.46436 <br>\n",
    "31 41 -1.38502 45 111 0.41594 <br>\n",
    "Descriptive statistics <br>\n",
    "Min Max Mean Std.dev. <br>\n",
    "-3.46436 3.46436 -0.00039 0.99752 <br>\n",
    "<br>\n",
    "12. Impulsive (Real) is impulsiveness measured by BIS-11. Possible values are presented in table below: <br>\n",
    "Impulsiveness Cases Fraction <br>\n",
    "-2.55524 20 1.06% <br>\n",
    "-1.37983 276 14.64% <br>\n",
    "-0.71126 307 16.29% <br>\n",
    "-0.21712 355 18.83% <br>\n",
    "0.19268 257 13.63% <br>\n",
    "0.52975 216 11.46% <br>\n",
    "0.88113 195 10.34% <br>\n",
    "1.29221 148 7.85% <br>\n",
    "1.86203 104 5.52% <br>\n",
    "2.90161 7 0.37% <br>\n",
    "Descriptive statistics <br>\n",
    "Min Max Mean Std.dev. <br>\n",
    "-2.55524 2.90161 0.00721 0.95446 <br>\n",
    "<br>\n",
    "13. SS (Real) is sensation seeing measured by ImpSS. Possible values are presented in table below: <br>\n",
    "SS Cases Fraction <br>\n",
    "-2.07848 71 3.77% <br>\n",
    "-1.54858 87 4.62% <br>\n",
    "-1.18084 132 7.00% <br>\n",
    "-0.84637 169 8.97% <br>\n",
    "-0.52593 211 11.19% <br>\n",
    "-0.21575 223 11.83% <br>\n",
    "0.07987 219 11.62% <br>\n",
    "0.40148 249 13.21% <br>\n",
    "0.76540 211 11.19% <br>\n",
    "1.22470 210 11.14% <br>\n",
    "1.92173 103 5.46% <br>\n",
    "Descriptive statistics <br>\n",
    "Min Max Mean Std.dev. <br>\n",
    "-2.07848 1.92173 -0.00329 0.96370 <br>\n",
    " <br>\n",
    "Consumo:\n",
    "<br>\n",
    "CL0 Never Used<br>\n",
    "CL1 Used over a Decade Ago <br>\n",
    "CL2 Used in Last Decade <br>\n",
    "CL3 Used in Last Year <br>\n",
    "CL4 Used in Last Month <br>\n",
    "CL5 Used in Last Week <br>\n",
    "CL6 Used in Last Day<br>"
   ]
  },
  {
   "cell_type": "markdown",
   "metadata": {},
   "source": [
    "# II. Consultas XQuery"
   ]
  },
  {
   "cell_type": "markdown",
   "metadata": {},
   "source": [
    "# Análise Estatística"
   ]
  },
  {
   "cell_type": "markdown",
   "metadata": {},
   "source": [
    "* Consumidores diários de café por nível de educação\n"
   ]
  },
  {
   "cell_type": "markdown",
   "metadata": {},
   "source": [
    "<pre>xquery version \"1.0\";\n",
    "\n",
    "let $documento := pesquisa\n",
    "\n",
    "return format-number(\n",
    "\t   \t(count(\n",
    "        \t$documento//\n",
    "            \tpessoa[education=\"-2.43591\" or education=\"-1.73790\"]\n",
    "            \t\t  [consumo[caff=\"CL6\"]]\n",
    "              ) div \n",
    "         (count(\n",
    "        \t$documento//\n",
    "            \tpessoa[education=\"-2.43591\" or education=\"-1.73790\"]\n",
    "              ))\n",
    "        ), '0%'\n",
    "       )</pre>"
   ]
  },
  {
   "cell_type": "markdown",
   "metadata": {},
   "source": [
    "73% dos usuários sem diploma de ensino médio tomam café diariamente."
   ]
  },
  {
   "cell_type": "markdown",
   "metadata": {},
   "source": [
    "<pre>xquery version \"1.0\";\n",
    "\n",
    "let $documento := pesquisa\n",
    "\n",
    "return format-number(\n",
    "\t   \t(count(\n",
    "        \t$documento//\n",
    "            \tpessoa[education=\"-1.43719\"\n",
    "                       or education=\"-1.22751\"\n",
    "                       or education=\"-0.61113\"]\n",
    "            \t\t  [consumo[caff=\"CL6\"]]\n",
    "              )) div \n",
    "         (count(\n",
    "        \t$documento//\n",
    "            \tpessoa[education=\"-1.43719\"\n",
    "                       or education=\"-1.22751\"\n",
    "                       or education=\"-0.61113\"]\n",
    "              )\n",
    "        ), '0%')</pre>"
   ]
  },
  {
   "cell_type": "markdown",
   "metadata": {},
   "source": [
    "70% dos usuários com diploma de ensino médio tomam café diariamente."
   ]
  },
  {
   "cell_type": "markdown",
   "metadata": {},
   "source": [
    "<pre>xquery version \"1.0\";\n",
    "\n",
    "let $documento := pesquisa\n",
    "\n",
    "return format-number(\n",
    "\t   \t(count(\n",
    "        \t$documento//\n",
    "            \tpessoa[education=\"-0.05921\"]\n",
    "            \t\t  [consumo[caff=\"CL6\"]]\n",
    "              ) div \n",
    "         (count(\n",
    "        \t$documento//\n",
    "            \tpessoa[education=\"-0.05921\"]\n",
    "              ))\n",
    "        ), '0%'\n",
    "       )</pre>"
   ]
  },
  {
   "cell_type": "markdown",
   "metadata": {},
   "source": [
    "76% dos usuários com curso técnico/profissionalizante tomam café diariamente."
   ]
  },
  {
   "cell_type": "markdown",
   "metadata": {},
   "source": [
    "<pre>xquery version \"1.0\";\n",
    "\n",
    "let $documento := pesquisa\n",
    "\n",
    "return format-number(\n",
    "\t   \t(count(\n",
    "        \t$documento//\n",
    "            \tpessoa[education=\"0.45468\"]\n",
    "            \t\t  [consumo[caff=\"CL6\"]]\n",
    "              ) div \n",
    "         (count(\n",
    "        \t$documento//\n",
    "            \tpessoa[education=\"0.45468\"]\n",
    "              ))\n",
    "        ), '0%'\n",
    "       )</pre>"
   ]
  },
  {
   "cell_type": "markdown",
   "metadata": {},
   "source": [
    "73% dos usuários com ensino superior completo tomam café diariamente."
   ]
  },
  {
   "cell_type": "markdown",
   "metadata": {},
   "source": [
    "<pre>query version \"1.0\";\n",
    "\n",
    "let $documento := pesquisa\n",
    "\n",
    "return format-number(\n",
    "\t   \t(count(\n",
    "        \t$documento//\n",
    "            \tpessoa[education=\"1.16365\" or \"1.98437\"]\n",
    "            \t\t  [consumo[caff=\"CL6\"]]\n",
    "              ) div \n",
    "         (count(\n",
    "        \t$documento//\n",
    "            \tpessoa[education=\"1.16365\" or \"1.98437\"]\n",
    "              ))\n",
    "        ), '0%'\n",
    "       )</pre>"
   ]
  },
  {
   "cell_type": "markdown",
   "metadata": {},
   "source": [
    "73% dos usuários com mestrado ou doutorado tomam café diariamente."
   ]
  },
  {
   "cell_type": "markdown",
   "metadata": {},
   "source": [
    "* Usuários de cocaína por nível de educação"
   ]
  },
  {
   "cell_type": "markdown",
   "metadata": {},
   "source": [
    "<pre>xquery version \"1.0\";\n",
    "\n",
    "let $documento := pesquisa\n",
    "\n",
    "return format-number(\n",
    "\t   \t(count(\n",
    "        \t$documento//\n",
    "            \tpessoa[education=\"-2.43591\" or education=\"-1.73790\"]\n",
    "            \t\t  [consumo[coke=\"CL6\" or coke=\"CL5\" or coke=\"CL4\"]]\n",
    "              ) div \n",
    "         (count(\n",
    "        \t$documento//\n",
    "            \tpessoa[education=\"-2.43591\" or education=\"-1.73790\"]\n",
    "              ))\n",
    "        ), '0%'\n",
    "       )</pre>"
   ]
  },
  {
   "cell_type": "markdown",
   "metadata": {},
   "source": [
    "6% dos participantes sem diploma de ensino médio são usuários de cocaína"
   ]
  },
  {
   "cell_type": "markdown",
   "metadata": {},
   "source": [
    "<pre>xquery version \"1.0\";\n",
    "\n",
    "let $documento := pesquisa\n",
    "\n",
    "return format-number(\n",
    "\t   \t(count(\n",
    "        \t$documento//\n",
    "            \tpessoa[education=\"-1.43719\" or education=\"-1.22751\"\n",
    "                       or education=\"-0.61113\"]\n",
    "            \t\t  [consumo[coke=\"CL6\" or coke=\"CL5\" or coke=\"CL4\"]]\n",
    "              ) div \n",
    "         (count(\n",
    "        \t$documento//\n",
    "            \tpessoa[education=\"-1.43719\" or education=\"-1.22751\"\n",
    "                       or education=\"-0.61113\"]\n",
    "              ))\n",
    "        ), '0%'\n",
    "       )</pre>"
   ]
  },
  {
   "cell_type": "markdown",
   "metadata": {},
   "source": [
    "12% dos participantes com diploma de ensino médio são usuários de cocaína\n"
   ]
  },
  {
   "cell_type": "markdown",
   "metadata": {},
   "source": [
    "<pre>xquery version \"1.0\";\n",
    "\n",
    "let $documento := pesquisa\n",
    "\n",
    "return format-number(\n",
    "\t   \t(count(\n",
    "        \t$documento//\n",
    "            \tpessoa[education=\"-0.05921\"]\n",
    "            \t\t  [consumo[coke=\"CL6\" or coke=\"CL5\" or coke=\"CL4\"]]\n",
    "              ) div \n",
    "         (count(\n",
    "        \t$documento//\n",
    "            \tpessoa[education=\"-0.05921\"]\n",
    "              ))\n",
    "        ), '0%'\n",
    "       )</pre>"
   ]
  },
  {
   "cell_type": "markdown",
   "metadata": {},
   "source": [
    "6% dos participantes com curso técnico/profissionalizante são usuários de cocaína"
   ]
  },
  {
   "cell_type": "markdown",
   "metadata": {},
   "source": [
    "<pre>xquery version \"1.0\";\n",
    "\n",
    "let $documento := pesquisa\n",
    "\n",
    "return format-number(\n",
    "\t   \t(count(\n",
    "        \t$documento//\n",
    "            \tpessoa[education=\"0.45468\"]\n",
    "            \t\t  [consumo[coke=\"CL6\" or coke=\"CL5\" or coke=\"CL4\"]]\n",
    "              ) div \n",
    "         (count(\n",
    "        \t$documento//\n",
    "            \tpessoa[education=\"0.45468\"]\n",
    "              ))\n",
    "        ), '0%'\n",
    "       )</pre>"
   ]
  },
  {
   "cell_type": "markdown",
   "metadata": {},
   "source": [
    "7% dos participantes com ensino superior completo são usuários de cocaína\n"
   ]
  },
  {
   "cell_type": "markdown",
   "metadata": {},
   "source": [
    "<pre>xquery version \"1.0\";\n",
    "\n",
    "let $documento := pesquisa\n",
    "\n",
    "return format-number(\n",
    "\t   \t(count(\n",
    "        \t$documento//\n",
    "            \tpessoa[education=\"1.16365\" or education=\"1.98437\"]\n",
    "            \t\t  [consumo[coke=\"CL6\" or coke=\"CL5\" or coke=\"CL4\"]]\n",
    "              ) div \n",
    "         (count(\n",
    "        \t$documento//\n",
    "            \tpessoa[education=\"1.16365\" or education=\"1.98437\"]\n",
    "              ))\n",
    "        ), '0%'\n",
    "       )</pre>"
   ]
  },
  {
   "cell_type": "markdown",
   "metadata": {},
   "source": [
    "7% dos participantes com mestrado ou doutorado são usuários de cocaína"
   ]
  },
  {
   "cell_type": "markdown",
   "metadata": {},
   "source": [
    "# Análise de Correlação de Variáveis"
   ]
  },
  {
   "cell_type": "markdown",
   "metadata": {},
   "source": [
    "* Relação entre impulsividade e cocaína"
   ]
  },
  {
   "cell_type": "markdown",
   "metadata": {},
   "source": [
    "<pre>xquery version \"1.0\";\n",
    "\n",
    "let $documento := pesquisa\n",
    "\n",
    "return format-number(\n",
    "\t   \t(count(\n",
    "        \t$documento//\n",
    "            \tpessoa[consumo[coke=\"CL6\" or coke=\"CL5\" or coke=\"CL4\"]]\n",
    "              ) div \n",
    "         (count(\n",
    "        \t$documento//\n",
    "            \tpessoa\n",
    "              ))\n",
    "        ), '0%'\n",
    "       )</pre>"
   ]
  },
  {
   "cell_type": "markdown",
   "metadata": {},
   "source": [
    "8% dos participantes são usuários de cocaína"
   ]
  },
  {
   "cell_type": "markdown",
   "metadata": {},
   "source": [
    "<pre>xquery version \"1.0\";\n",
    "\n",
    "let $documento := pesquisa\n",
    "\n",
    "return format-number(\n",
    "\t   \t(count(\n",
    "        \t$documento//\n",
    "            \tpessoa[personalidade[impulsive=\"1.29221\"\n",
    "                                     or impulsive=\"1.86203\"\n",
    "                                     or impulsive=\"2.90161\"]]\n",
    "            \t\t  [consumo[coke=\"CL6\" or coke=\"CL5\" or coke=\"CL4\"]]\n",
    "              ) div \n",
    "         (count(\n",
    "        \t$documento//\n",
    "            \tpessoa[personalidade[impulsive=\"1.29221\"\n",
    "                                     or impulsive=\"1.86203\"\n",
    "                                     or impulsive=\"2.90161\"]]\n",
    "              ))\n",
    "        ), '0%'\n",
    "       )</pre>"
   ]
  },
  {
   "cell_type": "markdown",
   "metadata": {},
   "source": [
    "14% dos impulsivos são usuários de cocaína"
   ]
  },
  {
   "cell_type": "markdown",
   "metadata": {},
   "source": [
    "Logo, usuários com o traço de personalidade \"impulsivo\" tem mais chances de ser um usuário de cocaína"
   ]
  },
  {
   "cell_type": "markdown",
   "metadata": {},
   "source": [
    "* Relação entre impulsividade e café"
   ]
  },
  {
   "cell_type": "markdown",
   "metadata": {},
   "source": [
    "<pre>xquery version \"1.0\";\n",
    "\n",
    "let $documento := pesquisa\n",
    "\n",
    "return format-number(\n",
    "\t   \t(count(\n",
    "        \t$documento//\n",
    "            \tpessoa[consumo[caff=\"CL6\"]]\n",
    "              ) div \n",
    "         (count(\n",
    "        \t$documento//\n",
    "            \tpessoa\n",
    "              ))\n",
    "        ), '0%'\n",
    "       )</pre>"
   ]
  },
  {
   "cell_type": "markdown",
   "metadata": {},
   "source": [
    "72% dos participantes consomem café diariamente"
   ]
  },
  {
   "cell_type": "markdown",
   "metadata": {},
   "source": [
    "<pre>xquery version \"1.0\";\n",
    "\n",
    "let $documento := pesquisa\n",
    "\n",
    "return format-number(\n",
    "\t   \t(count(\n",
    "        \t$documento//\n",
    "            \tpessoa[personalidade[impulsive=\"1.29221\"\n",
    "                                     or impulsive=\"1.86203\"\n",
    "                                     or impulsive=\"2.90161\"]]\n",
    "            \t\t  [consumo[caff=\"CL6\"]]\n",
    "              ) div \n",
    "         (count(\n",
    "        \t$documento//\n",
    "            \tpessoa[personalidade[impulsive=\"1.29221\"\n",
    "                                     or impulsive=\"1.86203\"\n",
    "                                     or impulsive=\"2.90161\"]]\n",
    "              ))\n",
    "        ), '0%'\n",
    "       )</pre>"
   ]
  },
  {
   "cell_type": "markdown",
   "metadata": {},
   "source": [
    "73% dos impulsivos consomem café diariamente"
   ]
  },
  {
   "cell_type": "markdown",
   "metadata": {},
   "source": [
    "Logo, não existe uma diferença significativa entre uma pessoa impulsiva e uma não impulsiva em relação ao consumo de cafeína"
   ]
  },
  {
   "cell_type": "markdown",
   "metadata": {},
   "source": [
    "* Relação entre nicotina e álcool"
   ]
  },
  {
   "cell_type": "markdown",
   "metadata": {},
   "source": [
    "<pre>xquery version \"1.0\";\n",
    "\n",
    "let $documento := pesquisa\n",
    "\n",
    "return format-number(\n",
    "\t   \t(count(\n",
    "        \t$documento//consumo[(nicotine=\"CL6\"\n",
    "                                or nicotine=\"CL5\"\n",
    "                                or nicotine=\"CL4\") and \n",
    "                                (alcohol=\"CL6\"\n",
    "                                or alcohol=\"CL5\"\n",
    "                                or alcohol=\"CL4\")]\n",
    "              ) div \n",
    "         (count(\n",
    "        \t$documento//consumo[nicotine=\"CL6\"\n",
    "                                or nicotine=\"CL5\"\n",
    "                                or nicotine=\"CL4\"]\n",
    "              ))\n",
    "        ), '0%'\n",
    "       )</pre>"
   ]
  },
  {
   "cell_type": "markdown",
   "metadata": {},
   "source": [
    "83% dos fumantes consomem álcool frequentemente"
   ]
  },
  {
   "cell_type": "markdown",
   "metadata": {},
   "source": [
    "<pre>xquery version \"1.0\";\n",
    "\n",
    "let $documento := pesquisa\n",
    "\n",
    "return format-number(\n",
    "\t   \t(count(\n",
    "        \t$documento//consumo[(nicotine=\"CL6\"\n",
    "                                or nicotine=\"CL5\"\n",
    "                                or nicotine=\"CL4\") and \n",
    "                                (alcohol=\"CL6\"\n",
    "                                or alcohol=\"CL5\"\n",
    "                                or alcohol=\"CL4\")]\n",
    "              ) div \n",
    "         (count(\n",
    "        \t$documento//consumo[alcohol=\"CL6\"\n",
    "                                or alcohol=\"CL5\"\n",
    "                                or alcohol=\"CL4\"]\n",
    "              ))\n",
    "        ), '0%'\n",
    "       )</pre>"
   ]
  },
  {
   "cell_type": "markdown",
   "metadata": {},
   "source": [
    "47% dos consumidores de álcool fumam"
   ]
  },
  {
   "cell_type": "markdown",
   "metadata": {},
   "source": [
    "* Relação entre Sensation Seeking e LSD"
   ]
  },
  {
   "cell_type": "markdown",
   "metadata": {},
   "source": [
    "<pre>xquery version \"1.0\";\n",
    "\n",
    "let $documento := pesquisa\n",
    "\n",
    "return (\n",
    "\t    sum($documento/\n",
    "            pessoa/personalidade/SS)\n",
    "        div\n",
    "        count($documento/\n",
    "            pessoa)\n",
    "       )</pre>"
   ]
  },
  {
   "cell_type": "markdown",
   "metadata": {},
   "source": [
    "Média SS total: -0.003291\n",
    "Obs: valor de SS de -2 a 2."
   ]
  },
  {
   "cell_type": "markdown",
   "metadata": {},
   "source": [
    "<pre>xquery version \"1.0\";\n",
    "\n",
    "let $documento := pesquisa\n",
    "\n",
    "return (\n",
    "\t    sum($documento/\n",
    "            pessoa[consumo[lsd=\"CL6\" or lsd=\"CL5\" or lsd = \"CL4\"]]/personalidade/SS)\n",
    "        div\n",
    "        count($documento/\n",
    "            pessoa[consumo[lsd=\"CL6\" or lsd=\"CL5\" or lsd = \"CL4\"]])\n",
    "       )</pre>"
   ]
  },
  {
   "cell_type": "markdown",
   "metadata": {},
   "source": [
    "Média SS de usuários de LSD: 0.611882"
   ]
  },
  {
   "cell_type": "markdown",
   "metadata": {},
   "source": [
    "# III. Consultas SPARQL"
   ]
  },
  {
   "cell_type": "markdown",
   "metadata": {},
   "source": [
    "* Cafeína: Tendência à dependência e vício "
   ]
  },
  {
   "cell_type": "markdown",
   "metadata": {},
   "source": [
    "select ?Dependency\n",
    "  where {dbr:Caffeine dbp:dependencyLiability ?Dependency}"
   ]
  },
  {
   "cell_type": "markdown",
   "metadata": {},
   "source": [
    "select ?Addiction\n",
    "  where {dbr:Caffeine dbp:addictionLiability ?Addiction}"
   ]
  },
  {
   "cell_type": "markdown",
   "metadata": {},
   "source": [
    "* Cocaína: Tendência à dependência e vício "
   ]
  },
  {
   "cell_type": "markdown",
   "metadata": {},
   "source": [
    "select ?Dependency\n",
    "  where {dbr:Cocaine dbp:dependencyLiability ?Dependency}"
   ]
  },
  {
   "cell_type": "markdown",
   "metadata": {},
   "source": [
    "select ?Addiction\n",
    "  where {dbr:Cocaine dbp:addictionLiability ?Addiction}"
   ]
  },
  {
   "cell_type": "markdown",
   "metadata": {},
   "source": [
    "* Nicotina: Tendência à dependência e vício "
   ]
  },
  {
   "cell_type": "markdown",
   "metadata": {},
   "source": [
    "select ?Dependency\n",
    "  where {dbr:Nicotine dbp:dependencyLiability ?Dependency}"
   ]
  },
  {
   "cell_type": "markdown",
   "metadata": {},
   "source": [
    "select ?Addiction\n",
    "  where {dbr:Nicotine dbp:addictionLiability ?Addiction}"
   ]
  },
  {
   "cell_type": "markdown",
   "metadata": {},
   "source": [
    "* LSD: Tendência à dependência e vício "
   ]
  },
  {
   "cell_type": "markdown",
   "metadata": {},
   "source": [
    "select ?Addiction\n",
    "  where {dbr:Lysergic_acid_diethylamide dbp:addictionLiability ?Addiction}"
   ]
  },
  {
   "cell_type": "markdown",
   "metadata": {},
   "source": [
    "select ?Dependency\n",
    "  where {dbr:Lysergic_acid_diethylamide dbp:dependencyLiability ?Dependency}"
   ]
  }
 ],
 "metadata": {
  "kernelspec": {
   "display_name": "SQL",
   "language": "SQL",
   "name": "sql"
  },
  "language_info": {
   "codemirror_mode": "sql",
   "file_extension": ".sql",
   "mimetype": "",
   "name": "SQL",
   "nbconverter_exporter": "",
   "version": ""
  },
  "toc": {
   "base_numbering": 1,
   "nav_menu": {},
   "number_sections": false,
   "sideBar": false,
   "skip_h1_title": false,
   "title_cell": "Table of Contents",
   "title_sidebar": "Contents",
   "toc_cell": false,
   "toc_position": {},
   "toc_section_display": false,
   "toc_window_display": false
  }
 },
 "nbformat": 4,
 "nbformat_minor": 2
}
